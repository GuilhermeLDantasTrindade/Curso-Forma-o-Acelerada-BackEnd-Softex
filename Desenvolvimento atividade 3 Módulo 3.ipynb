{
 "cells": [
  {
   "cell_type": "code",
   "execution_count": 3,
   "metadata": {},
   "outputs": [
    {
     "name": "stdout",
     "output_type": "stream",
     "text": [
      "5\n",
      "4\n",
      "3\n",
      "2\n",
      "1\n",
      "\n",
      "BUM!\n"
     ]
    }
   ],
   "source": [
    "import time\n",
    "\n",
    "for contagem_Regressiva in range(5,0,-1):\n",
    "    print(contagem_Regressiva)\n",
    "    time.sleep(5)\n",
    "print(\"\\nBUM!\")\n"
   ]
  },
  {
   "cell_type": "code",
   "execution_count": null,
   "metadata": {},
   "outputs": [],
   "source": []
  }
 ],
 "metadata": {
  "kernelspec": {
   "display_name": "Python 3.10.5 64-bit",
   "language": "python",
   "name": "python3"
  },
  "language_info": {
   "codemirror_mode": {
    "name": "ipython",
    "version": 3
   },
   "file_extension": ".py",
   "mimetype": "text/x-python",
   "name": "python",
   "nbconvert_exporter": "python",
   "pygments_lexer": "ipython3",
   "version": "3.10.5"
  },
  "orig_nbformat": 4,
  "vscode": {
   "interpreter": {
    "hash": "a753455692583e3d60d0352f7d4bc8768d4c1519aa2963811b486f49a05b0aab"
   }
  }
 },
 "nbformat": 4,
 "nbformat_minor": 2
}
